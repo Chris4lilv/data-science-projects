{
 "cells": [
  {
   "cell_type": "code",
   "execution_count": 1,
   "metadata": {},
   "outputs": [],
   "source": [
    "import lightgbm as lgb\n",
    "import pandas as pd\n",
    "import numpy as np"
   ]
  },
  {
   "cell_type": "markdown",
   "metadata": {},
   "source": [
    "## Ensemble(Stacking) step\n",
    "\n",
    "* The first trial would be to stacking model2 and model3"
   ]
  },
  {
   "cell_type": "code",
   "execution_count": 2,
   "metadata": {},
   "outputs": [],
   "source": [
    "model2 = lgb.Booster(model_file='models/model_with_param2.lgb')\n",
    "model3 = lgb.Booster(model_file='models/model_with_param3.lgb')\n",
    "# model4 = lgb.Booster(model_file='model_6_7_14_28_fe.lgb')"
   ]
  },
  {
   "cell_type": "markdown",
   "metadata": {},
   "source": [
    "### Data"
   ]
  },
  {
   "cell_type": "code",
   "execution_count": 6,
   "metadata": {},
   "outputs": [],
   "source": [
    "## reading data\n",
    "df_train_full =  pd.read_csv(\"sales_train_evaluation/sales_train_evaluation.csv\")\n",
    "df_calendar = pd.read_csv(\"calendar.csv\")\n",
    "df_prices = pd.read_csv(\"sell_prices.csv\")\n",
    "df_sample_submission = pd.read_csv(\"sample_submission.csv\")\n",
    "df_sample_submission[\"order\"] = range(df_sample_submission.shape[0])\n",
    "\n",
    "df_train = df_train_full.iloc[:, :-28]\n",
    "df_valid = df_train_full.iloc[:, -28:]"
   ]
  },
  {
   "cell_type": "code",
   "execution_count": 3,
   "metadata": {},
   "outputs": [
    {
     "name": "stderr",
     "output_type": "stream",
     "text": [
      "ERROR:root:Internal Python error in the inspect module.\n",
      "Below is the traceback from this internal error.\n",
      "\n"
     ]
    },
    {
     "name": "stdout",
     "output_type": "stream",
     "text": [
      "Traceback (most recent call last):\n",
      "  File \"d:\\python demo\\lib\\site-packages\\IPython\\core\\interactiveshell.py\", line 3326, in run_code\n",
      "    exec(code_obj, self.user_global_ns, self.user_ns)\n",
      "  File \"<ipython-input-3-3debf8a819b7>\", line 2, in <module>\n",
      "    df_train_pre = pd.read_csv('preprocessed_df_7_28.csv')\n",
      "  File \"d:\\python demo\\lib\\site-packages\\pandas\\io\\parsers.py\", line 685, in parser_f\n",
      "    return _read(filepath_or_buffer, kwds)\n",
      "  File \"d:\\python demo\\lib\\site-packages\\pandas\\io\\parsers.py\", line 463, in _read\n",
      "    data = parser.read(nrows)\n",
      "  File \"d:\\python demo\\lib\\site-packages\\pandas\\io\\parsers.py\", line 1169, in read\n",
      "    df = DataFrame(col_dict, columns=columns, index=index)\n",
      "  File \"d:\\python demo\\lib\\site-packages\\pandas\\core\\frame.py\", line 411, in __init__\n",
      "    mgr = init_dict(data, index, columns, dtype=dtype)\n",
      "  File \"d:\\python demo\\lib\\site-packages\\pandas\\core\\internals\\construction.py\", line 257, in init_dict\n",
      "    return arrays_to_mgr(arrays, data_names, index, columns, dtype=dtype)\n",
      "  File \"d:\\python demo\\lib\\site-packages\\pandas\\core\\internals\\construction.py\", line 87, in arrays_to_mgr\n",
      "    return create_block_manager_from_arrays(arrays, arr_names, axes)\n",
      "  File \"d:\\python demo\\lib\\site-packages\\pandas\\core\\internals\\managers.py\", line 1694, in create_block_manager_from_arrays\n",
      "    blocks = form_blocks(arrays, names, axes)\n",
      "  File \"d:\\python demo\\lib\\site-packages\\pandas\\core\\internals\\managers.py\", line 1764, in form_blocks\n",
      "    int_blocks = _multi_blockify(items_dict[\"IntBlock\"])\n",
      "  File \"d:\\python demo\\lib\\site-packages\\pandas\\core\\internals\\managers.py\", line 1846, in _multi_blockify\n",
      "    values, placement = _stack_arrays(list(tup_block), dtype)\n",
      "  File \"d:\\python demo\\lib\\site-packages\\pandas\\core\\internals\\managers.py\", line 1876, in _stack_arrays\n",
      "    stacked[i] = _asarray_compat(arr)\n",
      "KeyboardInterrupt\n",
      "\n",
      "During handling of the above exception, another exception occurred:\n",
      "\n",
      "Traceback (most recent call last):\n",
      "  File \"d:\\python demo\\lib\\site-packages\\IPython\\core\\interactiveshell.py\", line 2040, in showtraceback\n",
      "    stb = value._render_traceback_()\n",
      "AttributeError: 'KeyboardInterrupt' object has no attribute '_render_traceback_'\n",
      "\n",
      "During handling of the above exception, another exception occurred:\n",
      "\n",
      "Traceback (most recent call last):\n",
      "  File \"d:\\python demo\\lib\\site-packages\\IPython\\core\\ultratb.py\", line 1101, in get_records\n",
      "    return _fixed_getinnerframes(etb, number_of_lines_of_context, tb_offset)\n",
      "  File \"d:\\python demo\\lib\\site-packages\\IPython\\core\\ultratb.py\", line 319, in wrapped\n",
      "    return f(*args, **kwargs)\n",
      "  File \"d:\\python demo\\lib\\site-packages\\IPython\\core\\ultratb.py\", line 353, in _fixed_getinnerframes\n",
      "    records = fix_frame_records_filenames(inspect.getinnerframes(etb, context))\n",
      "  File \"d:\\python demo\\lib\\inspect.py\", line 1502, in getinnerframes\n",
      "    frameinfo = (tb.tb_frame,) + getframeinfo(tb, context)\n",
      "  File \"d:\\python demo\\lib\\inspect.py\", line 1460, in getframeinfo\n",
      "    filename = getsourcefile(frame) or getfile(frame)\n",
      "  File \"d:\\python demo\\lib\\inspect.py\", line 696, in getsourcefile\n",
      "    if getattr(getmodule(object, filename), '__loader__', None) is not None:\n",
      "  File \"d:\\python demo\\lib\\inspect.py\", line 739, in getmodule\n",
      "    f = getabsfile(module)\n",
      "  File \"d:\\python demo\\lib\\inspect.py\", line 708, in getabsfile\n",
      "    _filename = getsourcefile(object) or getfile(object)\n",
      "  File \"d:\\python demo\\lib\\inspect.py\", line 693, in getsourcefile\n",
      "    if os.path.exists(filename):\n",
      "  File \"d:\\python demo\\lib\\genericpath.py\", line 19, in exists\n",
      "    os.stat(path)\n",
      "KeyboardInterrupt\n"
     ]
    },
    {
     "ename": "KeyboardInterrupt",
     "evalue": "",
     "output_type": "error",
     "traceback": [
      "\u001b[1;31m---------------------------------------------------------------------------\u001b[0m"
     ]
    }
   ],
   "source": [
    "#Preprocessed data\n",
    "df_train_pre = pd.read_csv('preprocessed_df_7_28.csv')"
   ]
  },
  {
   "cell_type": "code",
   "execution_count": null,
   "metadata": {},
   "outputs": [],
   "source": [
    "cat_feats = ['item_id', 'dept_id','store_id', 'cat_id', 'state_id'] + [\"event_name_1\", \"event_name_2\", \"event_type_1\", \"event_type_2\"]\n",
    "useless_cols = [\"id\", \"date\", \"sales\",\"d\", \"wm_yr_wk\", \"weekday\"]\n",
    "train_cols = df_train_pre.columns[~df_train_pre.columns.isin(useless_cols)]\n",
    "X_train = df_train_pre[train_cols]\n",
    "y_train = df_train_pre[\"sales\"]"
   ]
  },
  {
   "cell_type": "markdown",
   "metadata": {},
   "source": [
    "### 5-fold cross validation"
   ]
  },
  {
   "cell_type": "code",
   "execution_count": null,
   "metadata": {},
   "outputs": [],
   "source": [
    "df_train_index = [ind for ind in df_train_pre.index]"
   ]
  },
  {
   "cell_type": "code",
   "execution_count": 47,
   "metadata": {
    "scrolled": true
   },
   "outputs": [
    {
     "data": {
      "text/plain": [
       "array([2, 3])"
      ]
     },
     "execution_count": 47,
     "metadata": {},
     "output_type": "execute_result"
    }
   ],
   "source": [
    "k = 5\n",
    "fold_size = len(df_train_index)/k\n",
    "\n",
    "df_train_index = [ind for ind in df_train_pre.index]\n",
    "\n",
    "params_3 = {\n",
    "            'boosting_type': 'gbdt',\n",
    "            'objective': 'tweedie',\n",
    "            'tweedie_variance_power': 1.1,\n",
    "            'metric': 'rmse',\n",
    "            'subsample': 0.5,\n",
    "            'subsample_freq': 1,\n",
    "            'learning_rate': 0.03,\n",
    "            'num_leaves': 2**11-1,\n",
    "            'min_data_in_leaf': 2**12-1,\n",
    "            'feature_fraction': 0.5,\n",
    "            'max_bin': 100,\n",
    "            'n_estimators': 1400,\n",
    "            'boost_from_average': False,\n",
    "            'verbose': 1,\n",
    "}\n",
    "\n",
    "#5-fold validation loop\n",
    "used_ind = []\n",
    "for i in range(5):\n",
    "    #This step is to avoid duplicate validation set\n",
    "    used_indices = pd.Series(used_ind)\n",
    "    total = pd.Series(df_train_index)\n",
    "    valid_cand = total[~total.isin(used_indices)].to_list()\n",
    "    ###############################################################################\n",
    "    #First argument is all candidates of unselected index\n",
    "    #Second argument is the size of each fold\n",
    "    #Third argument is set False to ensure no element is reused\n",
    "    validation_fold_index = np.random.choice(valid_cand,2,replace=False)\n",
    "    training_folds_index = np.setdiff1d(df_train_index,validation_fold_index)\n",
    "    #Add used index into this list\n",
    "    used_ind.append(validation_fold_index)\n",
    "    ###################################################################################\n",
    "    lgb_train_data = lgb.Dataset(X_train.loc[training_folds_index] , label = y_train.loc[training_folds_index], \n",
    "                             categorical_feature=cat_feats, free_raw_data=False)\n",
    "    lgb_valid_data = lgb.Dataset(y_train.loc[validation_fold_index], label = y_train.loc[validation_fold_index],\n",
    "                                  categorical_feature=cat_feats,\n",
    "                     free_raw_data=False)# This is a random sample, we're not gonna apply any time series train-test-split tricks here!\n",
    "    m_lgb = lgb.train(params_3, lgb_train_data, valid_sets = [lgb_valid_data], verbose_eval=20)\n",
    "    m_lgb.save_model(f'model_ensemble_fold{i}.lgb')"
   ]
  },
  {
   "cell_type": "code",
   "execution_count": null,
   "metadata": {},
   "outputs": [],
   "source": []
  }
 ],
 "metadata": {
  "kernelspec": {
   "display_name": "Python 3",
   "language": "python",
   "name": "python3"
  },
  "language_info": {
   "codemirror_mode": {
    "name": "ipython",
    "version": 3
   },
   "file_extension": ".py",
   "mimetype": "text/x-python",
   "name": "python",
   "nbconvert_exporter": "python",
   "pygments_lexer": "ipython3",
   "version": "3.7.3"
  }
 },
 "nbformat": 4,
 "nbformat_minor": 2
}
