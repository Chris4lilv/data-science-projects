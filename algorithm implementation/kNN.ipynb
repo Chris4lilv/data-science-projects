{
 "cells": [
  {
   "cell_type": "code",
   "execution_count": 2,
   "metadata": {},
   "outputs": [],
   "source": [
    "from numpy import *\n",
    "import operator"
   ]
  },
  {
   "cell_type": "markdown",
   "metadata": {},
   "source": [
    "**kNN algorithm implementation**"
   ]
  },
  {
   "cell_type": "code",
   "execution_count": 3,
   "metadata": {},
   "outputs": [],
   "source": [
    "\"\"\"\n",
    "inX: input vector for classification\n",
    "dataSet: training dataset\n",
    "labels: corresponding label vectors\n",
    "k: kNN parameter\n",
    "\"\"\"\n",
    "def classifykNN(inX, dataSet, labels, k):\n",
    "    dataSetSize = dataSet.shape[0]\n",
    "    diffMat = tile(inX, (dataSetSize,1)) - dataSet\n",
    "    sqDiffMat = diffMat**2\n",
    "    sqDistances = sqDiffMat.sum(axis=1)\n",
    "    distances = sqDistances**0.5\n",
    "    sortedDistIndicies = distances.argsort()     \n",
    "    classCount={}          \n",
    "    for i in range(k):\n",
    "        voteIlabel = labels[sortedDistIndicies[i]]\n",
    "        classCount[voteIlabel] = classCount.get(voteIlabel,0) + 1\n",
    "    sortedClassCount = sorted(classCount.items(), key=operator.itemgetter(1), reverse=True)\n",
    "    return sortedClassCount[0][0]"
   ]
  },
  {
   "cell_type": "markdown",
   "metadata": {},
   "source": [
    "**Example**"
   ]
  },
  {
   "cell_type": "code",
   "execution_count": 4,
   "metadata": {},
   "outputs": [],
   "source": [
    "def createDataSet():\n",
    "    group = array([[1.0, 1.1], [1.0, 1.0],[0,0],[0,0.1]])\n",
    "    labels = ['A','A','B','B']\n",
    "    return group, labels"
   ]
  },
  {
   "cell_type": "code",
   "execution_count": 10,
   "metadata": {},
   "outputs": [
    {
     "name": "stdout",
     "output_type": "stream",
     "text": [
      "kNN predicts that [[0.88545267 0.50838815]] belongs to A\n",
      "kNN predicts that [[0.59190249 0.53227624]] belongs to A\n",
      "kNN predicts that [[0.29327481 0.68842309]] belongs to B\n",
      "kNN predicts that [[0.66180108 0.69708924]] belongs to A\n",
      "kNN predicts that [[0.24953891 0.49155039]] belongs to B\n",
      "kNN predicts that [[0.99664127 0.72644286]] belongs to A\n",
      "kNN predicts that [[0.22496619 0.30169107]] belongs to B\n",
      "kNN predicts that [[0.88750619 0.35869168]] belongs to A\n",
      "kNN predicts that [[0.26550811 0.07715179]] belongs to B\n",
      "kNN predicts that [[0.89270598 0.79108366]] belongs to A\n"
     ]
    }
   ],
   "source": [
    "#Get data ready\n",
    "group, labels = createDataSet()\n",
    "test = [1,1]\n",
    "#Using kNN to make prediction\n",
    "for i in range(10):\n",
    "    num = random.rand(1,2)\n",
    "    prediction = classifykNN(num, group, labels, 3)\n",
    "    print('kNN predicts that', num, 'belongs to', prediction)"
   ]
  }
 ],
 "metadata": {
  "kernelspec": {
   "display_name": "Python 3",
   "language": "python",
   "name": "python3"
  },
  "language_info": {
   "codemirror_mode": {
    "name": "ipython",
    "version": 3
   },
   "file_extension": ".py",
   "mimetype": "text/x-python",
   "name": "python",
   "nbconvert_exporter": "python",
   "pygments_lexer": "ipython3",
   "version": "3.7.3"
  }
 },
 "nbformat": 4,
 "nbformat_minor": 2
}
