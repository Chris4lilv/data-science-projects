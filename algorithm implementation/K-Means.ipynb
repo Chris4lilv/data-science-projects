{
 "cells": [
  {
   "cell_type": "code",
   "execution_count": 1,
   "metadata": {},
   "outputs": [],
   "source": [
    "import numpy as np"
   ]
  },
  {
   "cell_type": "code",
   "execution_count": 2,
   "metadata": {},
   "outputs": [],
   "source": [
    "#This load a sample dataset to see how our algorithm performs\n",
    "def loadDataSet():      \n",
    "    dataMat = []                \n",
    "    fr = open('testSet.txt')\n",
    "    for line in fr.readlines():\n",
    "        curLine = line.strip().split('\\t')\n",
    "        fltLine = list(map(float,curLine))\n",
    "        dataMat.append(fltLine)\n",
    "    return dataMat"
   ]
  },
  {
   "cell_type": "code",
   "execution_count": 3,
   "metadata": {},
   "outputs": [],
   "source": [
    "#This calculate the euclidean distance of two vector\n",
    "def eucli_dist(v1,v2):\n",
    "    return np.sqrt(np.sum(np.power(v1-v2,2)))"
   ]
  },
  {
   "cell_type": "code",
   "execution_count": 4,
   "metadata": {},
   "outputs": [],
   "source": [
    "#Generate k random centroids within the dataset\n",
    "def rand_centroids(df,num_centroids):\n",
    "    n = np.shape(df)[1]\n",
    "    centroids = np.mat(np.zeros((num_centroids,n)))\n",
    "    for i in range(n):\n",
    "        minJ = min(df[:,i])\n",
    "        rangeJ = float(max(df[:,i]) - minJ)\n",
    "        centroids[:,i] = minJ + rangeJ * np.random.rand(num_centroids,1)\n",
    "    return centroids"
   ]
  },
  {
   "cell_type": "code",
   "execution_count": 23,
   "metadata": {},
   "outputs": [],
   "source": [
    "def KMeans(df, num_centroids, distMsr=eucli_dist):\n",
    "    m = np.shape(df)[0]\n",
    "    clusterAssment = np.mat(np.zeros((m,2)))\n",
    "    centroids = rand_centroids(df,num_centroids)\n",
    "    changed = True\n",
    "    while changed:\n",
    "        changed = False\n",
    "        for i in range(m):\n",
    "            minDist = np.inf\n",
    "            minIndex = -1\n",
    "            for j in range(num_centroids):\n",
    "                distJI = distMsr(centroids[j,:],df[i,:])\n",
    "                if distJI < minDist:\n",
    "                    minDist = distJI; minIndex = j\n",
    "            if clusterAssment[i,0] != minIndex: changed = True\n",
    "            clusterAssment[i,:] = minIndex, minDist**2\n",
    "        print(centroids)\n",
    "        for cent in range(num_centroids):\n",
    "            ptsInClust = df[np.nonzero(clusterAssment[:,0].A==cent)[0]]\n",
    "            centroids[cent,:] = np.mean(ptsInClust,axis=0)\n",
    "    return centroids, clusterAssment"
   ]
  },
  {
   "cell_type": "code",
   "execution_count": 40,
   "metadata": {},
   "outputs": [],
   "source": [
    "data = np.mat(loadDataSet())"
   ]
  },
  {
   "cell_type": "code",
   "execution_count": 41,
   "metadata": {},
   "outputs": [
    {
     "data": {
      "text/plain": [
       "matrix([[ 2.66269273, -3.11987452],\n",
       "        [ 1.70423694,  4.04981917],\n",
       "        [-3.08444497,  4.4155119 ],\n",
       "        [ 1.7914739 ,  0.65450303]])"
      ]
     },
     "execution_count": 41,
     "metadata": {},
     "output_type": "execute_result"
    }
   ],
   "source": [
    "rand_centroids(data,4)"
   ]
  },
  {
   "cell_type": "code",
   "execution_count": 42,
   "metadata": {},
   "outputs": [
    {
     "name": "stdout",
     "output_type": "stream",
     "text": [
      "[[ 2.06349499  4.82637691]\n",
      " [-3.53086452 -0.13280405]\n",
      " [ 2.05429364  3.5187194 ]\n",
      " [ 4.69661925  1.69265285]]\n",
      "[[ 1.4008295   4.71308625]\n",
      " [-2.90909524 -0.62810416]\n",
      " [ 1.64181288  2.80707553]\n",
      " [ 3.27344881 -1.82669405]]\n",
      "[[ 1.12304829  4.313196  ]\n",
      " [-3.17988762 -0.66398703]\n",
      " [ 1.88985089  2.70303026]\n",
      " [ 2.80293085 -2.7315146 ]]\n",
      "[[-0.05483858  3.75554275]\n",
      " [-3.34884281 -0.77772481]\n",
      " [ 2.53230537  2.6238155 ]\n",
      " [ 2.65077367 -2.79019029]]\n",
      "[[-1.60460037  3.19429405]\n",
      " [-3.54251791 -2.066412  ]\n",
      " [ 2.82411853  2.92788124]\n",
      " [ 2.65077367 -2.79019029]]\n",
      "[[-2.46154315  2.78737555]\n",
      " [-3.53973889 -2.89384326]\n",
      " [ 2.6265299   3.10868015]\n",
      " [ 2.65077367 -2.79019029]]\n"
     ]
    }
   ],
   "source": [
    "myCentroids, clustAssing = KMeans(data,4)"
   ]
  }
 ],
 "metadata": {
  "kernelspec": {
   "display_name": "Python 3",
   "language": "python",
   "name": "python3"
  },
  "language_info": {
   "codemirror_mode": {
    "name": "ipython",
    "version": 3
   },
   "file_extension": ".py",
   "mimetype": "text/x-python",
   "name": "python",
   "nbconvert_exporter": "python",
   "pygments_lexer": "ipython3",
   "version": "3.7.3"
  }
 },
 "nbformat": 4,
 "nbformat_minor": 2
}
